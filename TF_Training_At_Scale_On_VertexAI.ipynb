{
  "nbformat": 4,
  "nbformat_minor": 0,
  "metadata": {
    "colab": {
      "provenance": [],
      "authorship_tag": "ABX9TyPtoGnHczseuIiNb7UiVNyN",
      "include_colab_link": true
    },
    "kernelspec": {
      "name": "python3",
      "display_name": "Python 3"
    },
    "language_info": {
      "name": "python"
    }
  },
  "cells": [
    {
      "cell_type": "markdown",
      "metadata": {
        "id": "view-in-github",
        "colab_type": "text"
      },
      "source": [
        "<a href=\"https://colab.research.google.com/github/bongjoonsiong/TF-Training_At_Scale-on-VertexAI/blob/main/TF_Training_At_Scale_On_VertexAI.ipynb\" target=\"_parent\"><img src=\"https://colab.research.google.com/assets/colab-badge.svg\" alt=\"Open In Colab\"/></a>"
      ]
    },
    {
      "cell_type": "markdown",
      "source": [
        "# Training at scale with the Vertex AI Training Service\n",
        "\n",
        "## Learning objectives\n",
        "  1. Learn how to organize your training code into a Python package\n",
        "  2. Train your model using cloud infrastructure via Google Cloud Vertex AI Training Service\n",
        "  3. (optional) Learn how to run your training package using Docker containers and push training Docker images on a Docker registry\n",
        "\n",
        "## Introduction\n",
        "\n",
        "In this notebook we'll make the jump from training locally, to do training in the cloud. We'll take advantage of Google Cloud's [Vertex AI Training Service](https://cloud.google.com/vertex-ai/).\n",
        "\n",
        "Vertex AI Training Service is a managed service that allows the training and deployment of ML models without having to provision or maintain servers. The infrastructure is handled seamlessly by the managed service for us.\n",
        "\n",
        "Each learning objective will correspond to a __#TODO__ in the [student lab notebook](../labs/1_training_at_scale_vertex.ipynb) -- try to complete that notebook first before reviewing this solution notebook."
      ],
      "metadata": {
        "id": "p9ErZpPnJyP7"
      }
    },
    {
      "cell_type": "code",
      "source": [
        "!pip freeze | grep tensorflow || pip install tensorflow\n",
        "#!pip install tensorflow-gpu"
      ],
      "metadata": {
        "id": "8aWQHUrdJ2Og"
      },
      "execution_count": null,
      "outputs": []
    },
    {
      "cell_type": "markdown",
      "source": [
        "**Note:** **Restart** the kernel before proceeding further (On the Notebook menu, select Kernel > Restart Kernel > Restart).\n",
        "\n",
        "Specify your project name and bucket name in the cell below."
      ],
      "metadata": {
        "id": "qToI33qwKfvy"
      }
    },
    {
      "cell_type": "code",
      "source": [
        "from google import api_core\n",
        "from google.cloud import bigquery"
      ],
      "metadata": {
        "id": "57WQCplrKhTC"
      },
      "execution_count": null,
      "outputs": []
    },
    {
      "cell_type": "markdown",
      "source": [
        "Change the following cell as necessary:"
      ],
      "metadata": {
        "id": "y8iHr1j9KjYE"
      }
    },
    {
      "cell_type": "code",
      "source": [
        "# Change below if necessary\n",
        "PROJECT = !gcloud config get-value project  # noqa: E999\n",
        "PROJECT = PROJECT[0]\n",
        "BUCKET = PROJECT\n",
        "REGION = \"us-central1\"\n",
        "\n",
        "OUTDIR = f\"gs://{BUCKET}/taxifare/data\"\n",
        "\n",
        "%env PROJECT=$PROJECT\n",
        "%env BUCKET=$BUCKET\n",
        "%env REGION=$REGION\n",
        "%env OUTDIR=$OUTDIR\n",
        "%env TFVERSION=2.8"
      ],
      "metadata": {
        "id": "rbagRVCCKmb5"
      },
      "execution_count": null,
      "outputs": []
    },
    {
      "cell_type": "markdown",
      "source": [
        "Confirm below that the bucket is regional and its region equals to the specified region:"
      ],
      "metadata": {
        "id": "CJXlviiEKotF"
      }
    },
    {
      "cell_type": "code",
      "source": [
        "%%bash\n",
        "gsutil ls -Lb gs://$BUCKET | grep \"gs://\\|Location\"\n",
        "echo $REGION"
      ],
      "metadata": {
        "id": "Sh0UwQSsKqZo"
      },
      "execution_count": null,
      "outputs": []
    },
    {
      "cell_type": "code",
      "source": [
        "%%bash\n",
        "gcloud config set project $PROJECT\n",
        "gcloud config set ai/region $REGION"
      ],
      "metadata": {
        "id": "L2g7gz9MKsTq"
      },
      "execution_count": null,
      "outputs": []
    },
    {
      "cell_type": "markdown",
      "source": [
        "## Create BigQuery tables"
      ],
      "metadata": {
        "id": "kI8a45O4KuWu"
      }
    },
    {
      "cell_type": "markdown",
      "source": [
        "If you have not already created a BigQuery dataset for our data, run the following cell:"
      ],
      "metadata": {
        "id": "lqbtDlk9KwQ5"
      }
    },
    {
      "cell_type": "code",
      "source": [
        "bq = bigquery.Client(project=PROJECT)\n",
        "dataset = bigquery.Dataset(bq.dataset(\"taxifare\"))\n",
        "\n",
        "try:\n",
        "    bq.create_dataset(dataset)\n",
        "    print(\"Dataset created\")\n",
        "except api_core.exceptions.Conflict:\n",
        "    print(\"Dataset already exists\")"
      ],
      "metadata": {
        "id": "onWs8AQvKxwH"
      },
      "execution_count": null,
      "outputs": []
    },
    {
      "cell_type": "markdown",
      "source": [
        "Let's create a table with 1 million examples.\n",
        "\n",
        "Note that the order of columns is exactly what was in our CSV files."
      ],
      "metadata": {
        "id": "nxWMX1ZwKzvH"
      }
    },
    {
      "cell_type": "code",
      "source": [
        "%%bigquery\n",
        "\n",
        "CREATE OR REPLACE TABLE taxifare.feateng_training_data AS\n",
        "\n",
        "SELECT\n",
        "    (tolls_amount + fare_amount) AS fare_amount,\n",
        "    pickup_datetime,\n",
        "    pickup_longitude AS pickuplon,\n",
        "    pickup_latitude AS pickuplat,\n",
        "    dropoff_longitude AS dropofflon,\n",
        "    dropoff_latitude AS dropofflat,\n",
        "    passenger_count*1.0 AS passengers,\n",
        "    'unused' AS key\n",
        "FROM `nyc-tlc.yellow.trips`\n",
        "WHERE ABS(MOD(FARM_FINGERPRINT(CAST(pickup_datetime AS STRING)), 1000)) = 1\n",
        "AND\n",
        "    trip_distance > 0\n",
        "    AND fare_amount >= 2.5\n",
        "    AND pickup_longitude > -78\n",
        "    AND pickup_longitude < -70\n",
        "    AND dropoff_longitude > -78\n",
        "    AND dropoff_longitude < -70\n",
        "    AND pickup_latitude > 37\n",
        "    AND pickup_latitude < 45\n",
        "    AND dropoff_latitude > 37\n",
        "    AND dropoff_latitude < 45\n",
        "    AND passenger_count > 0"
      ],
      "metadata": {
        "id": "cqpp1ZyDK2wO"
      },
      "execution_count": null,
      "outputs": []
    },
    {
      "cell_type": "markdown",
      "source": [
        "Make the validation dataset be 1/10 the size of the training dataset."
      ],
      "metadata": {
        "id": "01vFsrD7K5RA"
      }
    },
    {
      "cell_type": "code",
      "source": [
        "%%bigquery\n",
        "\n",
        "CREATE OR REPLACE TABLE taxifare.feateng_valid_data AS\n",
        "\n",
        "SELECT\n",
        "    (tolls_amount + fare_amount) AS fare_amount,\n",
        "    pickup_datetime,\n",
        "    pickup_longitude AS pickuplon,\n",
        "    pickup_latitude AS pickuplat,\n",
        "    dropoff_longitude AS dropofflon,\n",
        "    dropoff_latitude AS dropofflat,\n",
        "    passenger_count*1.0 AS passengers,\n",
        "    'unused' AS key\n",
        "FROM `nyc-tlc.yellow.trips`\n",
        "WHERE ABS(MOD(FARM_FINGERPRINT(CAST(pickup_datetime AS STRING)), 10000)) = 2\n",
        "AND\n",
        "    trip_distance > 0\n",
        "    AND fare_amount >= 2.5\n",
        "    AND pickup_longitude > -78\n",
        "    AND pickup_longitude < -70\n",
        "    AND dropoff_longitude > -78\n",
        "    AND dropoff_longitude < -70\n",
        "    AND pickup_latitude > 37\n",
        "    AND pickup_latitude < 45\n",
        "    AND dropoff_latitude > 37\n",
        "    AND dropoff_latitude < 45\n",
        "    AND passenger_count > 0"
      ],
      "metadata": {
        "id": "QR60kuI5K7Wg"
      },
      "execution_count": null,
      "outputs": []
    },
    {
      "cell_type": "markdown",
      "source": [
        "## Export the tables as CSV files"
      ],
      "metadata": {
        "id": "EKh-Qf5EK-JM"
      }
    },
    {
      "cell_type": "code",
      "source": [
        "%%bash\n",
        "\n",
        "echo \"Deleting current contents of $OUTDIR\"\n",
        "gsutil -m -q rm -rf $OUTDIR\n",
        "\n",
        "# Extract the training data of the table\n",
        "echo \"Extracting training data to $OUTDIR\"\n",
        "# TODO 1: Your code goes here\n",
        "\n",
        "echo \"Extracting validation data to $OUTDIR\"\n",
        "# TODO 2: Your code goes here\n",
        "\n",
        "gsutil ls -l $OUTDIR"
      ],
      "metadata": {
        "id": "6unLUSDfK_1A"
      },
      "execution_count": null,
      "outputs": []
    },
    {
      "cell_type": "markdown",
      "source": [
        "Confirm that you have created both the training and validation datasets in Google Cloud Storage."
      ],
      "metadata": {
        "id": "X1T4bivYLBr-"
      }
    },
    {
      "cell_type": "code",
      "source": [
        "!gsutil ls gs://$BUCKET/taxifare/data"
      ],
      "metadata": {
        "id": "-Jcquk9_LDlA"
      },
      "execution_count": null,
      "outputs": []
    },
    {
      "cell_type": "code",
      "source": [
        "!gsutil cat gs://$BUCKET/taxifare/data/taxi-train-000000000000.csv | head -2"
      ],
      "metadata": {
        "id": "Zl69Dj1wLF9t"
      },
      "execution_count": null,
      "outputs": []
    },
    {
      "cell_type": "code",
      "source": [
        "!gsutil cat gs://$BUCKET/taxifare/data/taxi-valid-000000000000.csv | head -2"
      ],
      "metadata": {
        "id": "4uEaSLBaLHg_"
      },
      "execution_count": null,
      "outputs": []
    },
    {
      "cell_type": "markdown",
      "source": [
        "## Make code compatible with Vertex AI Training Service\n",
        "In order to make our code compatible with Vertex AI Training Service we need to make the following changes:\n",
        "\n",
        "1. Upload data to Google Cloud Storage\n",
        "2. Move code into a trainer Python package\n",
        "4. Submit training job with `gcloud` to train on Vertex AI"
      ],
      "metadata": {
        "id": "1x-N8hb-LLkB"
      }
    },
    {
      "cell_type": "markdown",
      "source": [
        "### Move code into a python package\n",
        "\n",
        "The first thing to do is to convert your training code snippets into a regular Python package.\n",
        "\n",
        "A Python package is simply a collection of one or more `.py` files along with an `__init__.py` file to identify the containing directory as a package. The `__init__.py` sometimes contains initialization code but for our purposes an empty file suffices."
      ],
      "metadata": {
        "id": "IOmuvELULPam"
      }
    },
    {
      "cell_type": "markdown",
      "source": [
        "#### Create the package directory"
      ],
      "metadata": {
        "id": "O55LeToSLQ91"
      }
    },
    {
      "cell_type": "markdown",
      "source": [
        "Our package directory contains 3 files:"
      ],
      "metadata": {
        "id": "0XYRoKCTLSSY"
      }
    },
    {
      "cell_type": "code",
      "source": [
        "ls ./taxifare/trainer/"
      ],
      "metadata": {
        "id": "Va_nT532LJ8P"
      },
      "execution_count": null,
      "outputs": []
    },
    {
      "cell_type": "markdown",
      "source": [
        "#### Paste existing code into model.py\n",
        "\n",
        "A Python package requires our code to be in a .py file, as opposed to notebook cells. So, we simply copy and paste our existing code for the previous notebook into a single file."
      ],
      "metadata": {
        "id": "Hehc1WCpLXCv"
      }
    },
    {
      "cell_type": "markdown",
      "source": [
        "In the cell below, we write the contents of the cell into `model.py` packaging the model we\n",
        "developed in the previous labs so that we can deploy it to Vertex AI Training Service."
      ],
      "metadata": {
        "id": "t_RXE_4XLam5"
      }
    },
    {
      "cell_type": "code",
      "source": [
        "%%writefile ./taxifare/trainer/model.py\n",
        "\"\"\"Data prep, train and evaluate DNN model.\"\"\"\n",
        "\n",
        "import logging\n",
        "import os\n",
        "\n",
        "import numpy as np\n",
        "import tensorflow as tf\n",
        "from tensorflow.keras import callbacks, models\n",
        "from tensorflow.keras.layers import (\n",
        "    Concatenate,\n",
        "    Dense,\n",
        "    Discretization,\n",
        "    Embedding,\n",
        "    Flatten,\n",
        "    Input,\n",
        "    Lambda,\n",
        ")\n",
        "from tensorflow.keras.layers.experimental.preprocessing import HashedCrossing\n",
        "\n",
        "logging.info(tf.version.VERSION)\n",
        "\n",
        "CSV_COLUMNS = [\n",
        "    \"fare_amount\",\n",
        "    \"pickup_datetime\",\n",
        "    \"pickup_longitude\",\n",
        "    \"pickup_latitude\",\n",
        "    \"dropoff_longitude\",\n",
        "    \"dropoff_latitude\",\n",
        "    \"passenger_count\",\n",
        "    \"key\",\n",
        "]\n",
        "\n",
        "LABEL_COLUMN = \"fare_amount\"\n",
        "DEFAULTS = [[0.0], [\"na\"], [0.0], [0.0], [0.0], [0.0], [0.0], [\"na\"]]\n",
        "UNWANTED_COLS = [\"pickup_datetime\", \"key\"]\n",
        "\n",
        "INPUT_COLS = [\n",
        "    c for c in CSV_COLUMNS if c != LABEL_COLUMN and c not in UNWANTED_COLS\n",
        "]\n",
        "\n",
        "def features_and_labels(row_data):\n",
        "    for unwanted_col in UNWANTED_COLS:\n",
        "        row_data.pop(unwanted_col)\n",
        "    label = row_data.pop(LABEL_COLUMN)\n",
        "    return row_data, label\n",
        "\n",
        "\n",
        "def load_dataset(pattern, batch_size, num_repeat):\n",
        "    dataset = tf.data.experimental.make_csv_dataset(\n",
        "        file_pattern=pattern,\n",
        "        batch_size=batch_size,\n",
        "        column_names=CSV_COLUMNS,\n",
        "        column_defaults=DEFAULTS,\n",
        "        num_epochs=num_repeat,\n",
        "        shuffle_buffer_size=1000000,\n",
        "    )\n",
        "    return dataset.map(features_and_labels)\n",
        "\n",
        "\n",
        "def create_train_dataset(pattern, batch_size):\n",
        "    dataset = load_dataset(pattern, batch_size, num_repeat=None)\n",
        "    return dataset.prefetch(1)\n",
        "\n",
        "\n",
        "def create_eval_dataset(pattern, batch_size):\n",
        "    dataset = load_dataset(pattern, batch_size, num_repeat=1)\n",
        "    return dataset.prefetch(1)\n",
        "\n",
        "\n",
        "def euclidean(params):\n",
        "    lon1, lat1, lon2, lat2 = params\n",
        "    londiff = lon2 - lon1\n",
        "    latdiff = lat2 - lat1\n",
        "    return tf.sqrt(londiff * londiff + latdiff * latdiff)\n",
        "\n",
        "\n",
        "def scale_longitude(lon_column):\n",
        "    return (lon_column + 78) / 8.0\n",
        "\n",
        "\n",
        "def scale_latitude(lat_column):\n",
        "    return (lat_column - 37) / 8.0\n",
        "\n",
        "\n",
        "def transform(inputs, nbuckets):\n",
        "    transformed = {}\n",
        "\n",
        "    # Scaling longitude from range [-70, -78] to [0, 1]\n",
        "    transformed[\"scaled_plon\"] = Lambda(scale_longitude, name=\"scale_plon\")(\n",
        "        inputs[\"pickup_longitude\"]\n",
        "    )\n",
        "    transformed[\"scaled_dlon\"] = Lambda(scale_longitude, name=\"scale_dlon\")(\n",
        "        inputs[\"dropoff_longitude\"]\n",
        "    )\n",
        "\n",
        "    # Scaling latitude from range [37, 45] to [0, 1]\n",
        "    transformed[\"scaled_plat\"] = Lambda(scale_latitude, name=\"scale_plat\")(\n",
        "        inputs[\"pickup_latitude\"]\n",
        "    )\n",
        "    transformed[\"scaled_dlat\"] = Lambda(scale_latitude, name=\"scale_dlat\")(\n",
        "        inputs[\"dropoff_latitude\"]\n",
        "    )\n",
        "\n",
        "    # Apply euclidean function\n",
        "    transformed[\"euclidean_distance\"] = Lambda(euclidean, name=\"euclidean\")(\n",
        "        [\n",
        "            inputs[\"pickup_longitude\"],\n",
        "            inputs[\"pickup_latitude\"],\n",
        "            inputs[\"dropoff_longitude\"],\n",
        "            inputs[\"dropoff_latitude\"],\n",
        "        ]\n",
        "    )\n",
        "\n",
        "    latbuckets = np.linspace(start=0.0, stop=1.0, num=nbuckets).tolist()\n",
        "    lonbuckets = np.linspace(start=0.0, stop=1.0, num=nbuckets).tolist()\n",
        "\n",
        "    # Bucketization with Discretization layer\n",
        "    plon = Discretization(lonbuckets, name=\"plon_bkt\")(\n",
        "        transformed[\"scaled_plon\"]\n",
        "    )\n",
        "    plat = Discretization(latbuckets, name=\"plat_bkt\")(\n",
        "        transformed[\"scaled_plat\"]\n",
        "    )\n",
        "    dlon = Discretization(lonbuckets, name=\"dlon_bkt\")(\n",
        "        transformed[\"scaled_dlon\"]\n",
        "    )\n",
        "    dlat = Discretization(latbuckets, name=\"dlat_bkt\")(\n",
        "        transformed[\"scaled_dlat\"]\n",
        "    )\n",
        "\n",
        "    # Feature Cross with HashedCrossing layer\n",
        "    p_fc = HashedCrossing(num_bins=nbuckets * nbuckets, name=\"p_fc\")(\n",
        "        (plon, plat)\n",
        "    )\n",
        "    d_fc = HashedCrossing(num_bins=nbuckets * nbuckets, name=\"d_fc\")(\n",
        "        (dlon, dlat)\n",
        "    )\n",
        "    pd_fc = HashedCrossing(num_bins=nbuckets**4, name=\"pd_fc\")((p_fc, d_fc))\n",
        "\n",
        "    # Embedding with Embedding layer\n",
        "    transformed[\"pd_embed\"] = Flatten()(\n",
        "        Embedding(input_dim=nbuckets**4, output_dim=10, name=\"pd_embed\")(\n",
        "            pd_fc\n",
        "        )\n",
        "    )\n",
        "\n",
        "    transformed[\"passenger_count\"] = inputs[\"passenger_count\"]\n",
        "\n",
        "    return transformed\n",
        "\n",
        "\n",
        "def rmse(y_true, y_pred):\n",
        "    return tf.sqrt(tf.reduce_mean(tf.square(y_pred - y_true)))\n",
        "\n",
        "\n",
        "def build_dnn_model(nbuckets, nnsize, lr):\n",
        "    inputs = {\n",
        "        colname: Input(name=colname, shape=(1,), dtype=\"float32\")\n",
        "        for colname in INPUT_COLS\n",
        "    }\n",
        "\n",
        "    # transforms\n",
        "    transformed = transform(inputs, nbuckets)\n",
        "    dnn_inputs = Concatenate()(transformed.values())\n",
        "\n",
        "    x = dnn_inputs\n",
        "    for layer, nodes in enumerate(nnsize):\n",
        "        x = Dense(nodes, activation=\"relu\", name=f\"h{layer}\")(x)\n",
        "    output = Dense(1, name=\"fare\")(x)\n",
        "\n",
        "    model = models.Model(inputs, output)\n",
        "    # TODO 1a\n",
        "    lr_optimizer = tf.keras.optimizers.Adam(learning_rate=lr)\n",
        "    model.compile(optimizer=lr_optimizer, loss=\"mse\", metrics=[rmse, \"mse\"])\n",
        "\n",
        "    return model\n",
        "\n",
        "\n",
        "def train_and_evaluate(hparams):\n",
        "    # TODO 1b\n",
        "    batch_size = hparams[\"batch_size\"]\n",
        "    nbuckets = hparams[\"nbuckets\"]\n",
        "    lr = hparams[\"lr\"]\n",
        "    nnsize = [int(s) for s in hparams[\"nnsize\"].split()]\n",
        "    eval_data_path = hparams[\"eval_data_path\"]\n",
        "    num_evals = hparams[\"num_evals\"]\n",
        "    num_examples_to_train_on = hparams[\"num_examples_to_train_on\"]\n",
        "    output_dir = hparams[\"output_dir\"]\n",
        "    train_data_path = hparams[\"train_data_path\"]\n",
        "\n",
        "    model_export_path = os.path.join(output_dir, \"savedmodel\")\n",
        "    checkpoint_path = os.path.join(output_dir, \"checkpoints\")\n",
        "    tensorboard_path = os.path.join(output_dir, \"tensorboard\")\n",
        "\n",
        "    if tf.io.gfile.exists(output_dir):\n",
        "        tf.io.gfile.rmtree(output_dir)\n",
        "\n",
        "    model = build_dnn_model(nbuckets, nnsize, lr)\n",
        "    logging.info(model.summary())\n",
        "\n",
        "    trainds = create_train_dataset(train_data_path, batch_size)\n",
        "    evalds = create_eval_dataset(eval_data_path, batch_size)\n",
        "\n",
        "    steps_per_epoch = num_examples_to_train_on // (batch_size * num_evals)\n",
        "\n",
        "    checkpoint_cb = callbacks.ModelCheckpoint(\n",
        "        checkpoint_path, save_weights_only=True, verbose=1\n",
        "    )\n",
        "    tensorboard_cb = callbacks.TensorBoard(tensorboard_path, histogram_freq=1)\n",
        "\n",
        "    history = model.fit(\n",
        "        trainds,\n",
        "        validation_data=evalds,\n",
        "        epochs=num_evals,\n",
        "        steps_per_epoch=max(1, steps_per_epoch),\n",
        "        verbose=2,  # 0=silent, 1=progress bar, 2=one line per epoch\n",
        "        callbacks=[checkpoint_cb, tensorboard_cb],\n",
        "    )\n",
        "\n",
        "    # Exporting the model with default serving function.\n",
        "    model.save(model_export_path)\n",
        "    return history\n"
      ],
      "metadata": {
        "id": "zbjVH5sjLeMl"
      },
      "execution_count": null,
      "outputs": []
    },
    {
      "cell_type": "markdown",
      "source": [
        "### Modify code to read data from and write checkpoint files to GCS\n",
        "\n",
        "If you look closely above, you'll notice a new function, `train_and_evaluate` that wraps the code that actually trains the model. This allows us to parametrize the training by passing a dictionary of parameters to this function (e.g, `batch_size`, `num_examples_to_train_on`, `train_data_path` etc.)\n",
        "\n",
        "This is useful because the output directory, data paths and number of train steps will be different depending on whether we're training locally or in the cloud. Parametrizing allows us to use the same code for both.\n",
        "\n",
        "We specify these parameters at run time via the command line. Which means we need to add code to parse command line parameters and invoke `train_and_evaluate()` with those params. This is the job of the `task.py` file."
      ],
      "metadata": {
        "id": "-p1f6dcNLhFG"
      }
    },
    {
      "cell_type": "code",
      "source": [
        "%%writefile taxifare/trainer/task.py\n",
        "\"\"\"Argument definitions for model training code in `trainer.model`.\"\"\"\n",
        "\n",
        "import argparse\n",
        "\n",
        "from trainer import model\n",
        "\n",
        "if __name__ == \"__main__\":\n",
        "    parser = argparse.ArgumentParser()\n",
        "    parser.add_argument(\n",
        "        \"--batch_size\",\n",
        "        help=\"Batch size for training steps\",\n",
        "        type=int,\n",
        "        default=32,\n",
        "    )\n",
        "    parser.add_argument(\n",
        "        \"--eval_data_path\",\n",
        "        help=\"GCS location pattern of eval files\",\n",
        "        required=True,\n",
        "    )\n",
        "    parser.add_argument(\n",
        "        \"--nnsize\",\n",
        "        help=\"Hidden layer sizes (provide space-separated sizes)\",\n",
        "        default=\"32 8\",\n",
        "    )\n",
        "    parser.add_argument(\n",
        "        \"--nbuckets\",\n",
        "        help=\"Number of buckets to divide lat and lon with\",\n",
        "        type=int,\n",
        "        default=10,\n",
        "    )\n",
        "    parser.add_argument(\n",
        "        \"--lr\", help=\"learning rate for optimizer\", type=float, default=0.001\n",
        "    )\n",
        "    parser.add_argument(\n",
        "        \"--num_evals\",\n",
        "        help=\"Number of times to evaluate model on eval data training.\",\n",
        "        type=int,\n",
        "        default=5,\n",
        "    )\n",
        "    parser.add_argument(\n",
        "        \"--num_examples_to_train_on\",\n",
        "        help=\"Number of examples to train on.\",\n",
        "        type=int,\n",
        "        default=100,\n",
        "    )\n",
        "    parser.add_argument(\n",
        "        \"--output_dir\",\n",
        "        help=\"GCS location to write checkpoints and export models\",\n",
        "        required=True,\n",
        "    )\n",
        "    parser.add_argument(\n",
        "        \"--train_data_path\",\n",
        "        help=\"GCS location pattern of train files containing eval URLs\",\n",
        "        required=True,\n",
        "    )\n",
        "    args = parser.parse_args()\n",
        "    hparams = args.__dict__\n",
        "\n",
        "    model.train_and_evaluate(hparams)"
      ],
      "metadata": {
        "id": "BIqlCCttLjkE"
      },
      "execution_count": null,
      "outputs": []
    },
    {
      "cell_type": "markdown",
      "source": [
        "### Run trainer module package locally\n",
        "\n",
        "Now we can test our training code locally as follows using the local test data. We'll run a very small training job over a single file with a small batch size and one eval step."
      ],
      "metadata": {
        "id": "8SzEdUUeLm2i"
      }
    },
    {
      "cell_type": "code",
      "source": [
        "%%bash\n",
        "\n",
        "# TODO 3\n",
        "\n",
        "EVAL_DATA_PATH=../data/taxi-traffic-valid*\n",
        "TRAIN_DATA_PATH=../data/taxi-traffic-train*\n",
        "OUTPUT_DIR=./taxifare-model\n",
        "\n",
        "test ${OUTPUT_DIR} && rm -rf ${OUTPUT_DIR}\n",
        "export PYTHONPATH=${PYTHONPATH}:${PWD}/taxifare\n",
        "\n",
        "# Run the trainer module package locally with 1 eval\n",
        "\n",
        "python3 -m trainer.task \\\n",
        "--eval_data_path $EVAL_DATA_PATH \\\n",
        "--output_dir $OUTPUT_DIR \\\n",
        "--train_data_path $TRAIN_DATA_PATH \\\n",
        "--batch_size 5 \\\n",
        "--num_examples_to_train_on 100 \\\n",
        "--num_evals 1 \\\n",
        "--nbuckets 10 \\\n",
        "--lr 0.001 \\\n",
        "--nnsize \"32 8\""
      ],
      "metadata": {
        "id": "MIoJ5qmkL-Hi"
      },
      "execution_count": null,
      "outputs": []
    },
    {
      "cell_type": "markdown",
      "source": [
        "### Run your training package on Vertex AI using a pre-built container\n",
        "\n",
        "Once the code works in standalone mode locally, you can run it on the Cloud using Vertex AI and use pre-built containers. First, we need to package our code as a source distribution. For this, we can use `setuptools`."
      ],
      "metadata": {
        "id": "dTmrFx30MBfZ"
      }
    },
    {
      "cell_type": "code",
      "source": [
        "%%writefile taxifare/setup.py\n",
        "\"\"\"Using `setuptools` to create a source distribution.\"\"\"\n",
        "\n",
        "from setuptools import find_packages, setup\n",
        "\n",
        "setup(\n",
        "    name=\"taxifare_trainer\",\n",
        "    version=\"0.1\",\n",
        "    packages=find_packages(),\n",
        "    include_package_data=True,\n",
        "    description=\"Taxifare model training application.\",\n",
        ")"
      ],
      "metadata": {
        "id": "GlKkl69YMDlT"
      },
      "execution_count": null,
      "outputs": []
    },
    {
      "cell_type": "code",
      "source": [
        "%%bash\n",
        "cd taxifare\n",
        "python ./setup.py sdist --formats=gztar\n",
        "cd .."
      ],
      "metadata": {
        "id": "GZXVHx6kMGcM"
      },
      "execution_count": null,
      "outputs": []
    },
    {
      "cell_type": "markdown",
      "source": [
        "We will store our package in the Cloud Storage bucket."
      ],
      "metadata": {
        "id": "S-m-E3qqMIrP"
      }
    },
    {
      "cell_type": "code",
      "source": [
        "# TODO 4\n",
        "# Store the package in the Cloud Storage bucket\n",
        "\n",
        "!gsutil cp taxifare/dist/taxifare_trainer-0.1.tar.gz gs://$BUCKET/taxifare/"
      ],
      "metadata": {
        "id": "2S7z1w2ZMK_F"
      },
      "execution_count": null,
      "outputs": []
    },
    {
      "cell_type": "markdown",
      "source": [
        "#### Submit Custom Job using the `gcloud` CLI"
      ],
      "metadata": {
        "id": "tnc6IXQsMNY-"
      }
    },
    {
      "cell_type": "markdown",
      "source": [
        "To submit this source distribution the Cloud we use [`gcloud ai custom-jobs create`](https://cloud.google.com/sdk/gcloud/reference/ai/custom-jobs/create) and simply specify some additional parameters for Vertex AI Training service:\n",
        "- job_name: A unique identifier for the Cloud job. We usually append system time to ensure uniqueness\n",
        "- region: Cloud region to train in. See [here](https://cloud.google.com/vertex-ai/docs/general/locations) for supported Vertex AI Custom model training regions\n",
        "\n",
        "The arguments within `--args` are sent to our `task.py`.\n",
        "\n",
        "Because this is on the entire dataset, it will take a while. You can monitor the job from the GCP console in the Vertex AI Training section."
      ],
      "metadata": {
        "id": "TBBJ5w8uMQU6"
      }
    },
    {
      "cell_type": "code",
      "source": [
        "%%bash\n",
        "# TODO 5\n",
        "\n",
        "# Output directory and jobID\n",
        "TIMESTAMP=$(date -u +%Y%m%d_%H%M%S)\n",
        "OUTDIR=gs://${BUCKET}/taxifare/trained_model_$TIMESTAMP\n",
        "JOB_NAME=taxifare_$TIMESTAMP\n",
        "echo ${OUTDIR} ${REGION} ${JOB_NAME}\n",
        "\n",
        "PYTHON_PACKAGE_URIS=gs://${BUCKET}/taxifare/taxifare_trainer-0.1.tar.gz\n",
        "MACHINE_TYPE=n1-standard-4\n",
        "REPLICA_COUNT=1\n",
        "PYTHON_PACKAGE_EXECUTOR_IMAGE_URI=\"us-docker.pkg.dev/vertex-ai/training/tf-cpu.2-8:latest\"\n",
        "PYTHON_MODULE=trainer.task\n",
        "\n",
        "# Model and training hyperparameters\n",
        "BATCH_SIZE=50\n",
        "NUM_EXAMPLES_TO_TRAIN_ON=5000\n",
        "NUM_EVALS=100\n",
        "NBUCKETS=10\n",
        "LR=0.001\n",
        "NNSIZE=\"32 8\"\n",
        "\n",
        "# GCS paths\n",
        "GCS_PROJECT_PATH=gs://$BUCKET/taxifare\n",
        "DATA_PATH=$GCS_PROJECT_PATH/data\n",
        "TRAIN_DATA_PATH=$DATA_PATH/taxi-train*\n",
        "EVAL_DATA_PATH=$DATA_PATH/taxi-valid*\n",
        "\n",
        "WORKER_POOL_SPEC=\"machine-type=$MACHINE_TYPE,\\\n",
        "replica-count=$REPLICA_COUNT,\\\n",
        "executor-image-uri=$PYTHON_PACKAGE_EXECUTOR_IMAGE_URI,\\\n",
        "python-module=$PYTHON_MODULE\"\n",
        "\n",
        "ARGS=\"--eval_data_path=$EVAL_DATA_PATH,\\\n",
        "--output_dir=$OUTDIR,\\\n",
        "--train_data_path=$TRAIN_DATA_PATH,\\\n",
        "--batch_size=$BATCH_SIZE,\\\n",
        "--num_examples_to_train_on=$NUM_EXAMPLES_TO_TRAIN_ON,\\\n",
        "--num_evals=$NUM_EVALS,\\\n",
        "--nbuckets=$NBUCKETS,\\\n",
        "--lr=$LR,\\\n",
        "--nnsize=$NNSIZE\"\n",
        "\n",
        "# Create a custom job\n",
        "\n",
        "gcloud ai custom-jobs create \\\n",
        "  --region=${REGION} \\\n",
        "  --display-name=$JOB_NAME \\\n",
        "  --python-package-uris=$PYTHON_PACKAGE_URIS \\\n",
        "  --worker-pool-spec=$WORKER_POOL_SPEC \\\n",
        "  --args=\"$ARGS\""
      ],
      "metadata": {
        "id": "FiVz5mo9MUPB"
      },
      "execution_count": null,
      "outputs": []
    },
    {
      "cell_type": "markdown",
      "source": [
        "#### Submit Custom Job using the Vertex AI Python SDK"
      ],
      "metadata": {
        "id": "hKB2g9kJMWe7"
      }
    },
    {
      "cell_type": "markdown",
      "source": [
        "The `gcloud` CLI is just one of multiple ways to interact with Vertex AI, which also include the Console GUI, directly calling the REST APIs (e.g. using `curl`), and the most flexible interface being the Vertex AI SDK available in multiple languages.\n",
        "\n",
        "Below, we use the Vertex AI Python SDK to accomplish the same Pre-Built Container training as above -- getting familiar with the SDK will come in handy later when we use advanced features such as hyperparameter tuning."
      ],
      "metadata": {
        "id": "m2U8p_2pMYXS"
      }
    },
    {
      "cell_type": "code",
      "source": [
        "```python\n",
        "from datetime import datetime\n",
        "from google.cloud import aiplatform\n",
        "\n",
        "\n",
        "# Output directory and jobID\n",
        "timestamp_str=datetime.strftime(datetime.now(), '%y%m%d_%H%M%S')\n",
        "OUTDIR=f\"gs://{BUCKET}/taxifare/trained_model_{timestamp_str}\"\n",
        "JOB_NAME=f\"taxifare_{timestamp_str}\"\n",
        "print(OUTDIR, REGION, JOB_NAME)\n",
        "\n",
        "\n",
        "# Vertex AI machines to use for training\n",
        "PYTHON_PACKAGE_URIS=f\"gs://{BUCKET}/taxifare/taxifare_trainer-0.1.tar.gz\"\n",
        "MACHINE_TYPE=\"n1-standard-4\"\n",
        "REPLICA_COUNT=1\n",
        "PYTHON_PACKAGE_EXECUTOR_IMAGE_URI=\"us-docker.pkg.dev/vertex-ai/training/tf-cpu.2-8:latest\"\n",
        "PYTHON_MODULE=\"trainer.task\"\n",
        "\n",
        "# Model and training hyperparameters\n",
        "BATCH_SIZE=50\n",
        "NUM_EXAMPLES_TO_TRAIN_ON=5000\n",
        "NUM_EVALS=100\n",
        "NBUCKETS=10\n",
        "LR=0.001\n",
        "NNSIZE=\"32 8\"\n",
        "\n",
        "\n",
        "# GCS paths.\n",
        "GCS_PROJECT_PATH=f\"gs://{BUCKET}/taxifare\"\n",
        "DATA_PATH=f\"{GCS_PROJECT_PATH}/data\"\n",
        "TRAIN_DATA_PATH=f\"{DATA_PATH}/taxi-train*\"\n",
        "EVAL_DATA_PATH=f\"{DATA_PATH}/taxi-valid*\"\n",
        "\n",
        "def create_custom_job_sample(\n",
        "    project: str,\n",
        "    display_name: str,\n",
        "    executor_image_uri: str,\n",
        "    package_uri: str,\n",
        "    python_module: str,\n",
        "    location: str = REGION,\n",
        "    api_endpoint: str = f\"{REGION}-aiplatform.googleapis.com\",\n",
        "):\n",
        "    # The AI Platform services require regional API endpoints.\n",
        "    client_options = {\"api_endpoint\": api_endpoint}\n",
        "    # Initialize client that will be used to create and send requests.\n",
        "    # This client only needs to be created once, and can be reused for multiple requests.\n",
        "    client = aiplatform.gapic.JobServiceClient(client_options=client_options)\n",
        "    custom_job = {\n",
        "        \"display_name\": display_name,\n",
        "        \"job_spec\": {\n",
        "            \"worker_pool_specs\": [\n",
        "                {\n",
        "                    \"machine_spec\": {\n",
        "                        \"machine_type\": MACHINE_TYPE,\n",
        "                    },\n",
        "                    \"replica_count\": REPLICA_COUNT,\n",
        "                    \"python_package_spec\": {\n",
        "                        \"executor_image_uri\": executor_image_uri,\n",
        "                        \"package_uris\": [package_uri],\n",
        "                        \"python_module\": python_module,\n",
        "                        \"args\": [\n",
        "                            f\"--eval_data_path={EVAL_DATA_PATH}\",\n",
        "                            f\"--output_dir={OUTDIR}\",\n",
        "                            f\"--train_data_path={TRAIN_DATA_PATH}\",\n",
        "                            f\"--batch_size={BATCH_SIZE}\",\n",
        "                            f\"--num_examples_to_train_on={NUM_EXAMPLES_TO_TRAIN_ON}\",\n",
        "                            f\"--num_evals={NUM_EVALS}\",\n",
        "                            f\"--nbuckets={NBUCKETS}\",\n",
        "                            f\"--lr={LR}\",\n",
        "                            f\"--nnsize={NNSIZE}\"\n",
        "                        ],\n",
        "                    },\n",
        "                }\n",
        "            ],\n",
        "        },\n",
        "    }\n",
        "    parent = f\"projects/{project}/locations/{location}\"\n",
        "    response = client.create_custom_job(parent=parent, custom_job=custom_job)\n",
        "    print(\"response:\", response)\n",
        "\n",
        "create_custom_job_sample(\n",
        "    project=PROJECT,\n",
        "    display_name=JOB_NAME,\n",
        "    executor_image_uri=PYTHON_PACKAGE_EXECUTOR_IMAGE_URI,\n",
        "    package_uri=PYTHON_PACKAGE_URIS,\n",
        "    python_module=PYTHON_MODULE)\n",
        "```"
      ],
      "metadata": {
        "id": "8UD6pg9hMgW0"
      },
      "execution_count": null,
      "outputs": []
    },
    {
      "cell_type": "markdown",
      "source": [
        "You can see the training job listed in the console UI. Wait for the job to get finish.\n"
      ],
      "metadata": {
        "id": "ikelsgMIMwIY"
      }
    }
  ]
}